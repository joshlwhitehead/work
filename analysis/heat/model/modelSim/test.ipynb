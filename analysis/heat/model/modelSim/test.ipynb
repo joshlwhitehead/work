{
 "cells": [
  {
   "cell_type": "code",
   "execution_count": 1,
   "metadata": {},
   "outputs": [
    {
     "name": "stdout",
     "output_type": "stream",
     "text": [
      "0.9687157938184311\n",
      "0.9751779745865785\n",
      "0.027669068389850948\n"
     ]
    },
    {
     "data": {
      "image/png": "[encoded data removed]",
      "text/plain": [
       "<Figure size 432x288 with 1 Axes>"
      ]
     },
     "metadata": {
      "needs_background": "light"
     },
     "output_type": "display_data"
    }
   ],
   "source": [
    "import matplotlib.pyplot as plt\n",
    "import numpy as np\n",
    "from parseTxt import modelTune\n",
    "from scipy.interpolate import interp1d\n",
    "import random\n",
    "\n",
    "\n",
    "def calculation(T0,offset,someTemp,lam,time):                               #someTemp is either thermistor temp or set temp\n",
    "\n",
    "    return (-someTemp+offset+T0)*np.exp(-lam*(time))+someTemp-offset\n",
    "\n",
    "def off(someTemp):\n",
    "    \n",
    "    a = -0.0013693467336683212\n",
    "    b = 0.2659547738693443\n",
    "    c = -3.881909547738627\n",
    "    return a*someTemp**2+b*someTemp+c\n",
    "\n",
    "def r2(y,fit):\n",
    "    st = sum((y-np.average(y))**2)\n",
    "    sr = sum((y-fit)**2)\n",
    "    r2 = 1-sr/st\n",
    "    return r2\n",
    "\n",
    "file = 'revertModel1.txt'\n",
    "fullData = modelTune(file)\n",
    "therm = [np.array(fullData[i][1][0]) for i in range(len(fullData))]\n",
    "samp = [np.array(fullData[i][0][0]) for i in range(len(fullData))]\n",
    "mod = [np.array(fullData[i][1][1]) for i in range(len(fullData))]\n",
    "sampTime = [np.array(fullData[i][0][1]) for i in range(len(fullData))]\n",
    "time = [np.array(fullData[i][1][2]) for i in range(len(fullData))]\n",
    "\n",
    "mod.append([24])\n",
    "section = 0\n",
    "test = calculation(mod[section-1][-1],off(therm[section]),therm[section],0.0259,time[section]-time[section][0]-5)\n",
    "testInterp = interp1d(time[section],test)(sampTime[section])\n",
    "\n",
    "\n",
    "\n",
    "# print(testInterp(sampTime[section]))\n",
    "# testInterp = testInterp(sampTime[section])\n",
    "\n",
    "\n",
    "monteCarlo = np.random.uniform(0,1,10000)\n",
    "print(r2(samp[section],testInterp))\n",
    "rr = {}\n",
    "for i in monteCarlo:\n",
    "    test3 = calculation(mod[section-1][-1],off(therm[section]),therm[section],i,time[section]-time[section][0]-5)\n",
    "    testInterp = interp1d(time[section],test3)(sampTime[section])\n",
    "    rr[r2(samp[section],testInterp)] = i\n",
    "\n",
    "test2 = calculation(mod[section-1][-1],off(therm[section]),therm[section],rr[max(rr.keys())],time[section]-time[section][0]-5)\n",
    "print(max(rr.keys()))\n",
    "print(rr[max(rr.keys())])\n",
    "# plt.plot(time[section],therm[section])\n",
    "# plt.plot(time[section],mod[section])\n",
    "plt.plot(sampTime[section],samp[section])\n",
    "plt.plot(time[section],test)\n",
    "plt.plot(time[section],test2)\n",
    "# plt.plot(sampTime[section],testInterp(sampTime[section]))\n",
    "plt.show()\n",
    "\n"
   ]
  },
  {
   "cell_type": "code",
   "execution_count": null,
   "metadata": {},
   "outputs": [],
   "source": [
    "monteCarlo = np.random.uniform(0,1,10000)\n",
    "print(r2(samp[section],testInterp))\n",
    "rr = {}\n",
    "for i in monteCarlo:\n",
    "    test3 = calculation(mod[section-1][-1],off(therm[section]),therm[section],i,time[section]-time[section][0]-5)\n",
    "    testInterp = interp1d(time[section],test3)(sampTime[section])\n",
    "    rr[r2(samp[section],testInterp)] = i"
   ]
  }
 ],
 "metadata": {
  "kernelspec": {
   "display_name": "Python 3",
   "language": "python",
   "name": "python3"
  },
  "language_info": {
   "codemirror_mode": {
    "name": "ipython",
    "version": 3
   },
   "file_extension": ".py",
   "mimetype": "text/x-python",
   "name": "python",
   "nbconvert_exporter": "python",
   "pygments_lexer": "ipython3",
   "version": "3.10.4"
  },
  "orig_nbformat": 4
 },
 "nbformat": 4,
 "nbformat_minor": 2
}
