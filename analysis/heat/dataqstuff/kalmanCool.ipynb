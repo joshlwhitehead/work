{
 "cells": [
  {
   "cell_type": "code",
   "execution_count": 1,
   "metadata": {},
   "outputs": [],
   "source": [
    "import matplotlib.pyplot as plt\n",
    "import numpy as np\n",
    "import dataToVar as dat"
   ]
  },
  {
   "cell_type": "code",
   "execution_count": 2,
   "metadata": {},
   "outputs": [],
   "source": [
    "def r2(y,fit):\n",
    "    st = sum((y-np.average(y))**2)\n",
    "    sr = sum((y-fit)**2)\n",
    "    r2 = 1-sr/st\n",
    "    return r2"
   ]
  },
  {
   "cell_type": "code",
   "execution_count": 3,
   "metadata": {},
   "outputs": [
    {
     "name": "stdout",
     "output_type": "stream",
     "text": [
      "-inf\n",
      "offset = 0.00026095046523684945 * therm^2 + 0.022180789545132203 * therm + 1.8853671113362371\n"
     ]
    },
    {
     "name": "stderr",
     "output_type": "stream",
     "text": [
      "c:\\Users\\JoshWhitehea_5801ztl\\AppData\\Local\\Programs\\Python\\Python310\\lib\\site-packages\\IPython\\core\\interactiveshell.py:3397: RankWarning: Polyfit may be poorly conditioned\n",
      "  exec(code_obj, self.user_global_ns, self.user_ns)\n",
      "C:\\Users\\JoshWhitehea_5801ztl\\AppData\\Local\\Temp\\ipykernel_8360\\648828037.py:4: RuntimeWarning: divide by zero encountered in double_scalars\n",
      "  r2 = 1-sr/st\n"
     ]
    },
    {
     "data": {
      "text/plain": [
       "[<matplotlib.lines.Line2D at 0x17de4dc1cc0>]"
      ]
     },
     "execution_count": 3,
     "metadata": {},
     "output_type": "execute_result"
    },
    {
     "data": {
      "image/png": "[encoded data removed]",
      "text/plain": [
       "<Figure size 432x288 with 1 Axes>"
      ]
     },
     "metadata": {
      "needs_background": "light"
     },
     "output_type": "display_data"
    }
   ],
   "source": [
    "def r2surf(zlist,zlistfit):\n",
    "    zlist = np.array(zlist)\n",
    "    zlistfit = np.array(zlistfit)\n",
    "    st = sum((zlist-np.average(zlist))**2)\n",
    "    sr = sum((zlist-zlistfit)**2)\n",
    "    r2 = 1-sr/st\n",
    "    return r2\n",
    "\n",
    "eig = dat.c85_noInsert\n",
    "# fif = dat.c50_noInsert\n",
    "# sev = dat.c70_noInsert\n",
    "# thir = dat.c30_noInsert\n",
    "\n",
    "# thirData = thir[2][:20000]\n",
    "# fifData = fif[2][:20000]\n",
    "# sevData = sev[2][:20000]\n",
    "# thirTherm = thir[1][:20000]\n",
    "# fifTherm = fif[1][:20000]\n",
    "# sevTherm = sev[1][:20000]\n",
    "eigData = eig[2][:20000]\n",
    "eigTherm = eig[1][:20000]\n",
    "\n",
    "\n",
    "# print(fif[0][1])\n",
    "\n",
    "d = 85 - np.average(eigData[-50:])\n",
    "# b = 50 - np.average(fifData[-50:])\n",
    "# c = 70 - np.average(sevData[-50:])\n",
    "# a = 30 - np.average(thirData[-50:])\n",
    "\n",
    "xx = np.array([85])\n",
    "yy = np.array([d])\n",
    "aa,bb,cc = np.polyfit(xx,yy,2)\n",
    "# plt.plot(xx,yy,'o')\n",
    "# plt.plot(xx,aa*xx**2+bb*xx+cc)\n",
    "\n",
    ";\n",
    "print(r2(yy,aa*xx**2+bb*xx+cc))\n",
    "print('offset =',aa,'* therm^2 +',bb,'* therm +',cc)\n",
    "# aa = 0.001783387081181651\n",
    "# bb = -0.12568814551147064\n",
    "# cc = 4.697092470876827\n",
    "plt.plot(xx,yy,'o')\n",
    "plt.plot(xx,aa*xx**2+bb*xx+cc)\n"
   ]
  },
  {
   "cell_type": "code",
   "execution_count": 4,
   "metadata": {},
   "outputs": [
    {
     "name": "stdout",
     "output_type": "stream",
     "text": [
      "r2 = 0.9850805917527597\n",
      "a = 0.9991999999999781\n"
     ]
    }
   ],
   "source": [
    "rr = {}\n",
    "# set = [50,70,90,100]\n",
    "\n",
    "shortest = len(eigData)\n",
    "ytot = [eigData[:shortest]]\n",
    "xtot = [eigTherm[:shortest]]\n",
    "for i in xtot:\n",
    "    for j in range(len(i)):\n",
    "        if str(i[j]) == 'nan':\n",
    "            i[j] = i[j-1]\n",
    "zlist = []\n",
    "for i in ytot:\n",
    "    for j in i:\n",
    "        zlist.append(j)\n",
    "\n",
    "big = np.arange(0.8,1,0.0001)\n",
    "for i in big:\n",
    "    zlistfit = []\n",
    "    for j in range(len(ytot)):\n",
    "        old = ytot[j][0]\n",
    "        # ans = []\n",
    "       \n",
    "\n",
    "        for k in xtot[j]:\n",
    "            if str(k) == 'nan':\n",
    "                print('fix csv')\n",
    "                break\n",
    "            else:\n",
    "                offset = aa*k**2+bb*k+cc\n",
    "                old = old*i+(k-offset)*(1-i)\n",
    "                zlistfit.append(old)\n",
    "        \n",
    "\n",
    "    r = r2surf(zlist,zlistfit)\n",
    "    if r >0 and r<1:\n",
    "        rr[r] = i\n",
    "\n",
    "# print(rr)\n",
    "print('r2 =',max(rr)) \n",
    "   \n",
    "trust = rr[max(rr)] \n",
    "print('a =',trust)\n",
    "# trust = .9992"
   ]
  },
  {
   "cell_type": "code",
   "execution_count": 5,
   "metadata": {},
   "outputs": [
    {
     "data": {
      "text/plain": [
       "''"
      ]
     },
     "execution_count": 5,
     "metadata": {},
     "output_type": "execute_result"
    },
    {
     "data": {
      "image/png": "[encoded data removed]",
      "text/plain": [
       "<Figure size 1152x648 with 1 Axes>"
      ]
     },
     "metadata": {
      "needs_background": "light"
     },
     "output_type": "display_data"
    }
   ],
   "source": [
    "plt.figure(figsize=(16,9))\n",
    "for j in range(len(ytot)):\n",
    "    old = ytot[j][0]\n",
    "    ans = []\n",
    " \n",
    "    for k in xtot[j]:\n",
    "        offset = aa*k**2+bb*k+cc\n",
    "        old = old*trust+(k-offset)*(1-trust)\n",
    "        ans.append(old)\n",
    "    plt.plot(ans)\n",
    "\n",
    "for i in ytot:\n",
    "    plt.plot(i) \n",
    "plt.grid()\n",
    "plt.yticks(np.arange(25,95,5))\n",
    ";"
   ]
  },
  {
   "cell_type": "code",
   "execution_count": null,
   "metadata": {},
   "outputs": [],
   "source": []
  }
 ],
 "metadata": {
  "interpreter": {
   "hash": "f843ee0a3a14f37930098b44a96339ea0525cc138e2dda434ef23b3a1dd70704"
  },
  "kernelspec": {
   "display_name": "Python 3.10.4 64-bit",
   "language": "python",
   "name": "python3"
  },
  "language_info": {
   "codemirror_mode": {
    "name": "ipython",
    "version": 3
   },
   "file_extension": ".py",
   "mimetype": "text/x-python",
   "name": "python",
   "nbconvert_exporter": "python",
   "pygments_lexer": "ipython3",
   "version": "3.10.4"
  },
  "orig_nbformat": 4
 },
 "nbformat": 4,
 "nbformat_minor": 2
}
