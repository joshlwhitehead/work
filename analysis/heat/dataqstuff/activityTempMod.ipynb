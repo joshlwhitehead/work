{
 "cells": [
  {
   "cell_type": "code",
   "execution_count": 10,
   "metadata": {},
   "outputs": [
    {
     "name": "stdout",
     "output_type": "stream",
     "text": [
      "11368\n"
     ]
    }
   ],
   "source": [
    "import matplotlib.pyplot as plt\n",
    "import numpy as np\n",
    "import dataToVar as dat\n",
    "a = dat.h50\n",
    "b = dat.h70\n",
    "c = dat.h90_c\n",
    "d = dat.h100\n",
    "\n"
   ]
  },
  {
   "cell_type": "code",
   "execution_count": 5,
   "metadata": {},
   "outputs": [
    {
     "name": "stdout",
     "output_type": "stream",
     "text": [
      "0.018000000000000002\n",
      "0.03\n",
      "\n",
      "0.9772802889037515\n",
      "\n",
      "0.9645456100221683\n"
     ]
    },
    {
     "data": {
      "image/png": "[encoded data removed]",
      "text/plain": [
       "<Figure size 432x288 with 1 Axes>"
      ]
     },
     "metadata": {
      "needs_background": "light"
     },
     "output_type": "display_data"
    }
   ],
   "source": [
    "a = dat.h50\n",
    "b = dat.h70\n",
    "c = dat.h90_c\n",
    "d = dat.h100\n",
    "\n",
    "totalDat = [a,b,c,d]\n",
    "\n",
    "samp = []\n",
    "sampRaw = []\n",
    "time = []\n",
    "Tset = []\n",
    "for i in totalDat:\n",
    "    samp.append(-i[2][:len(b[2])]+max(i[2][:len(b[2])]))\n",
    "    sampRaw.append(i[2][:len(b[2])])\n",
    "    time.append(i[0][:len(b[2])])\n",
    "    Tset.append(np.array(i[1][:len(b[2])]))\n",
    "\n",
    "\n",
    "for i in Tset:\n",
    "    for j in range(len(i)):\n",
    "        if str(j[i]) == 'nan':\n",
    "            j[i] = j[i-1]\n",
    "offset = 5#0.001783387081181648*Tset**2 -0.12568814551147026*Tset+ 4.697092470876816\n",
    "\n",
    "\n",
    "\n",
    "\n",
    "\n",
    "def r2(y,fit):\n",
    "    st = sum((y-np.average(y))**2)\n",
    "    sr = sum((y-fit)**2)\n",
    "    r2 = 1-sr/st\n",
    "    return r2\n",
    "\n",
    "def decay(lam):\n",
    "    z = []\n",
    "    for i in range(len(totalDat)):\n",
    "        z.append((max(totalDat[i][2])-min(totalDat[i][2]))*np.exp(-lam*time[i][:len(b[2])]))\n",
    "    return z\n",
    "\n",
    "def T(lam):\n",
    "    z = []\n",
    "    for i in range(len(Tset)):\n",
    "        z.append((-Tset[i]+offset+30)*np.exp(-lam*time[i])+Tset[i]-offset)\n",
    "        return z\n",
    "\n",
    "tries = np.arange(0,1,.001)\n",
    "\n",
    "zlist = []\n",
    "for i in samp:\n",
    "    for j in i:\n",
    "        zlist.append(j)\n",
    "###############################################################################################################################################################################################\n",
    "\n",
    "\n",
    "\n",
    "\n",
    "\n",
    "\n",
    "big = np.arange(0,1,0.001)\n",
    "for i in big:\n",
    "    zlistfit = []\n",
    "    for j in range(len(samp)):\n",
    "        \n",
    "       \n",
    "\n",
    "        for k in time[j]:\n",
    "            if str(k) == 'nan':\n",
    "                print('fix csv')\n",
    "                break\n",
    "            else:\n",
    "                zlistfit.append(old)\n",
    "        \n",
    "\n",
    "    r = r2surf(zlist,zlistfit)\n",
    "    if r >0 and r<1:\n",
    "        rr[r] = i\n",
    "\n",
    "# print(rr)\n",
    "print('r2=',max(rr)) \n",
    "   \n",
    "trust = rr[max(rr)] \n",
    "print('a=',trust)\n",
    "trust = .99802\n",
    "# trust = .9957\n",
    "\n",
    "\n",
    "\n",
    "\n"
   ]
  }
 ],
 "metadata": {
  "interpreter": {
   "hash": "f843ee0a3a14f37930098b44a96339ea0525cc138e2dda434ef23b3a1dd70704"
  },
  "kernelspec": {
   "display_name": "Python 3.10.4 64-bit",
   "language": "python",
   "name": "python3"
  },
  "language_info": {
   "codemirror_mode": {
    "name": "ipython",
    "version": 3
   },
   "file_extension": ".py",
   "mimetype": "text/x-python",
   "name": "python",
   "nbconvert_exporter": "python",
   "pygments_lexer": "ipython3",
   "version": "3.10.4"
  },
  "orig_nbformat": 4
 },
 "nbformat": 4,
 "nbformat_minor": 2
}
