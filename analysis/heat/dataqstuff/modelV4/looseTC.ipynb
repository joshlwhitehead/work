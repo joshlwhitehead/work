{
 "cells": [
  {
   "cell_type": "code",
   "execution_count": 62,
   "metadata": {},
   "outputs": [],
   "source": [
    "import numpy as np\n",
    "import matplotlib.pyplot as plt\n",
    "from scipy.interpolate import interp1d\n",
    "from scipy.optimize import curve_fit"
   ]
  },
  {
   "cell_type": "code",
   "execution_count": 63,
   "metadata": {},
   "outputs": [],
   "source": [
    "def parse(file):\n",
    "    with open(file,'r') as readFile:                                                                                        #convert lines in file to list\n",
    "        file = readFile.readlines()\n",
    "\n",
    "    stop = False\n",
    "    thermData = []\n",
    "    thermTime = []\n",
    "    tCoupData = []\n",
    "    tCoupTime = []\n",
    "    countLines = 0\n",
    "    for i in file:\n",
    "        if 'DATAQ:' in i and not stop:\n",
    "            tCoupData.append(float(i.split()[4].strip(',')))\n",
    "            try:\n",
    "                    tCoupTime.append(float(file[countLines-1].split()[0].strip('()'))/1000)\n",
    "                    # totalTime.append(float(file[countLines-1].split()[0].strip('()'))/1000)\n",
    "            except:\n",
    "                if file[countLines+1].split()[0] != 'DATAQ:':\n",
    "                    tCoupTime.append(float(file[countLines+1].split()[0].strip('()'))/1000)\n",
    "                else:\n",
    "                    try:\n",
    "                        tCoupTime.append(float(file[countLines-2].split()[0].strip('()'))/1000)\n",
    "                    except:\n",
    "                        try:\n",
    "                            tCoupTime.append(float(file[countLines+2].split()[0].strip('()'))/1000)\n",
    "                        except:\n",
    "                            print(file[countLines])\n",
    "                            tCoupTime.append(float(file[countLines-3].split()[0].strip('()'))/1000)\n",
    "        elif 'modeled' in i and not stop:\n",
    "            thermData.append(float(i.split()[4].strip(',')))\n",
    "            thermTime.append(float(i.split()[0].strip('()'))/1000)\n",
    "            if float(i.split()[4].strip(',')) > 114:\n",
    "                stop = True\n",
    "        \n",
    "        countLines += 1\n",
    "    thermTime = np.array(thermTime)-thermTime[0]\n",
    "    tCoupTime = np.array(tCoupTime)-tCoupTime[0]\n",
    "    return (thermTime,thermData),(tCoupTime,tCoupData)\n",
    "def r2(y,fit):\n",
    "    y = np.array(y)\n",
    "    fit = np.array(fit)\n",
    "    st = sum((y-np.average(y))**2)\n",
    "    sr = sum((y-fit)**2)\n",
    "    r2 = 1-sr/st\n",
    "    return r2\n",
    "\n",
    "def test(x,a,b,c):\n",
    "    return a*np.log(x+c)+b"
   ]
  },
  {
   "cell_type": "code",
   "execution_count": 64,
   "metadata": {},
   "outputs": [],
   "source": [
    "file = 'data/JW_mod4_tcInMiddle_1.txt'\n",
    "file2 = 'data/JW_mod4_tcInMiddleWithCupFail_2.txt'\n",
    "file3 = 'data/JW_mod4_tcInSide_3.txt'\n",
    "\n",
    "x1,y1 = parse(file)[0]\n",
    "x2,y2 = parse(file)[1]\n",
    "\n",
    "x3,y3 = parse(file2)[0]\n",
    "x4,y4 = parse(file2)[1]\n",
    "\n",
    "x5,y5 = parse(file3)[0]\n",
    "x6,y6 = parse(file3)[1]"
   ]
  },
  {
   "cell_type": "code",
   "execution_count": null,
   "metadata": {},
   "outputs": [],
   "source": []
  },
  {
   "cell_type": "code",
   "execution_count": 66,
   "metadata": {},
   "outputs": [
    {
     "name": "stdout",
     "output_type": "stream",
     "text": [
      "0.9228141564075593\n",
      "2.7199864829432587\n"
     ]
    },
    {
     "data": {
      "image/png": "[encoded data removed]",
      "text/plain": [
       "<Figure size 432x288 with 1 Axes>"
      ]
     },
     "metadata": {
      "needs_background": "light"
     },
     "output_type": "display_data"
    }
   ],
   "source": [
    "# xTherm,yTherm = interp1d(x1,y1)\n",
    "\n",
    "newTherm = interp1d(x1,y1)\n",
    "newCoup = interp1d(x2,y2)\n",
    "\n",
    "diff = newTherm(x2) - newCoup(x2)\n",
    "a,b = np.polyfit(x2,diff,1)\n",
    "\n",
    "plt.plot(x2,diff)\n",
    "plt.plot(x2,a*x2+b)\n",
    "print(r2(diff,a*x2+b))\n",
    ";\n",
    "\n",
    "print(a)"
   ]
  }
 ],
 "metadata": {
  "kernelspec": {
   "display_name": "Python 3",
   "language": "python",
   "name": "python3"
  },
  "language_info": {
   "codemirror_mode": {
    "name": "ipython",
    "version": 3
   },
   "file_extension": ".py",
   "mimetype": "text/x-python",
   "name": "python",
   "nbconvert_exporter": "python",
   "pygments_lexer": "ipython3",
   "version": "3.10.4"
  },
  "orig_nbformat": 4
 },
 "nbformat": 4,
 "nbformat_minor": 2
}
