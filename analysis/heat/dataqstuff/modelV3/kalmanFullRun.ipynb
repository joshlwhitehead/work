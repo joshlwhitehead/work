{
 "cells": [
  {
   "cell_type": "code",
   "execution_count": 1,
   "metadata": {},
   "outputs": [],
   "source": [
    "import SiblingDir\n",
    "import matplotlib.pyplot as plt\n",
    "import numpy as np\n",
    "import dataCollect.dataToVar as dat"
   ]
  },
  {
   "cell_type": "code",
   "execution_count": 2,
   "metadata": {},
   "outputs": [],
   "source": [
    "def r2(y,fit):\n",
    "    st = sum((y-np.average(y))**2)\n",
    "    sr = sum((y-fit)**2)\n",
    "    r2 = 1-sr/st\n",
    "    return r2"
   ]
  },
  {
   "cell_type": "markdown",
   "metadata": {},
   "source": [
    "## Offset Heat"
   ]
  },
  {
   "cell_type": "code",
   "execution_count": 3,
   "metadata": {},
   "outputs": [
    {
     "ename": "AttributeError",
     "evalue": "module 'dataCollect.dataToVar' has no attribute 'modRetrainData'",
     "output_type": "error",
     "traceback": [
      "\u001b[1;31m---------------------------------------------------------------------------\u001b[0m",
      "\u001b[1;31mAttributeError\u001b[0m                            Traceback (most recent call last)",
      "\u001b[1;32mc:\\Users\\JoshWhitehea_5801ztl\\work\\analysis\\heat\\dataqstuff\\modelV3\\kalmanFullRun.ipynb Cell 4\u001b[0m in \u001b[0;36m<cell line: 9>\u001b[1;34m()\u001b[0m\n\u001b[0;32m      <a href='vscode-notebook-cell:/c%3A/Users/JoshWhitehea_5801ztl/work/analysis/heat/dataqstuff/modelV3/kalmanFullRun.ipynb#ch0000003?line=5'>6</a>\u001b[0m     r2 \u001b[39m=\u001b[39m \u001b[39m1\u001b[39m\u001b[39m-\u001b[39msr\u001b[39m/\u001b[39mst\n\u001b[0;32m      <a href='vscode-notebook-cell:/c%3A/Users/JoshWhitehea_5801ztl/work/analysis/heat/dataqstuff/modelV3/kalmanFullRun.ipynb#ch0000003?line=6'>7</a>\u001b[0m     \u001b[39mreturn\u001b[39;00m r2\n\u001b[1;32m----> <a href='vscode-notebook-cell:/c%3A/Users/JoshWhitehea_5801ztl/work/analysis/heat/dataqstuff/modelV3/kalmanFullRun.ipynb#ch0000003?line=8'>9</a>\u001b[0m full \u001b[39m=\u001b[39m dat\u001b[39m.\u001b[39;49mmodRetrainData                               \u001b[39m#list of data has form of [time,thermister,sample]\u001b[39;00m\n\u001b[0;32m     <a href='vscode-notebook-cell:/c%3A/Users/JoshWhitehea_5801ztl/work/analysis/heat/dataqstuff/modelV3/kalmanFullRun.ipynb#ch0000003?line=9'>10</a>\u001b[0m cool \u001b[39m=\u001b[39m dat\u001b[39m.\u001b[39mmodRetrainCool\n\u001b[0;32m     <a href='vscode-notebook-cell:/c%3A/Users/JoshWhitehea_5801ztl/work/analysis/heat/dataqstuff/modelV3/kalmanFullRun.ipynb#ch0000003?line=12'>13</a>\u001b[0m \u001b[39mdef\u001b[39;00m \u001b[39mfindOffset\u001b[39m(data,setTemp1,setTemp2,setTemp3,ssEnd1,ssEnd2,ssEnd3):           \n",
      "\u001b[1;31mAttributeError\u001b[0m: module 'dataCollect.dataToVar' has no attribute 'modRetrainData'"
     ]
    }
   ],
   "source": [
    "def r2surf(zlist,zlistfit):\n",
    "    zlist = np.array(zlist)\n",
    "    zlistfit = np.array(zlistfit)\n",
    "    st = sum((zlist-np.average(zlist))**2)\n",
    "    sr = sum((zlist-zlistfit)**2)\n",
    "    r2 = 1-sr/st\n",
    "    return r2\n",
    "\n",
    "full = dat.modRetrainData                               #list of data has form of [time,thermister,sample]\n",
    "cool = dat.modRetrainCool\n",
    "\n",
    "\n",
    "def findOffset(data,setTemp1,setTemp2,setTemp3,ssEnd1,ssEnd2,ssEnd3):           \n",
    "    offsetA = setTemp1 - np.average(data[2][ssEnd1-50:ssEnd1])           #find offsets by subtracting sample temp at ss from thermister temp\n",
    "    offsetB = setTemp2 - np.average(data[2][ssEnd2-50:ssEnd2])            #setTemp = thermister temp @ss\n",
    "                                                                            #ssEnd = index where steady state ends\n",
    "\n",
    "    xx = np.array([setTemp1,setTemp2])\n",
    "    yy = np.array([offsetA,offsetB])\n",
    "    aa,bb = np.polyfit(xx,yy,1)                              #offset coeffs\n",
    "    plt.plot(xx,yy,'o')\n",
    "    plt.plot(xx,aa*xx+bb)\n",
    "    \n",
    "    ;\n",
    "    print(r2(yy,aa*xx+bb))\n",
    "    print('offset =',aa,'* therm +',bb)\n",
    "    return aa,bb\n",
    "aH,bH = findOffset(full,62,90,0,1300,3000,0)\n",
    "\n",
    "# aC = -0.004822680890538034\n",
    "# bC = 0.7402680890538067\n",
    "# cC = -18.674434137291467\n",
    "\n"
   ]
  },
  {
   "cell_type": "code",
   "execution_count": null,
   "metadata": {},
   "outputs": [],
   "source": [
    "aC = 0.19999999999999982\n",
    "bC = -1.9999999999999885\n",
    "# aC, bC = findOffset(cool,40,60,0,6741,-1,0)"
   ]
  },
  {
   "cell_type": "markdown",
   "metadata": {},
   "source": [
    "## Kalman Loop"
   ]
  },
  {
   "cell_type": "code",
   "execution_count": null,
   "metadata": {},
   "outputs": [
    {
     "ename": "KeyboardInterrupt",
     "evalue": "",
     "output_type": "error",
     "traceback": [
      "\u001b[1;31m---------------------------------------------------------------------------\u001b[0m",
      "\u001b[1;31mKeyboardInterrupt\u001b[0m                         Traceback (most recent call last)",
      "\u001b[1;32mc:\\Users\\JoshWhitehea_5801ztl\\work\\analysis\\heat\\dataqstuff\\kalmanFullRun.ipynb Cell 7'\u001b[0m in \u001b[0;36m<cell line: 48>\u001b[1;34m()\u001b[0m\n\u001b[0;32m     <a href='vscode-notebook-cell:/c%3A/Users/JoshWhitehea_5801ztl/work/analysis/heat/dataqstuff/kalmanFullRun.ipynb#ch0000006?line=44'>45</a>\u001b[0m     \u001b[39m# trust = .99802\u001b[39;00m\n\u001b[0;32m     <a href='vscode-notebook-cell:/c%3A/Users/JoshWhitehea_5801ztl/work/analysis/heat/dataqstuff/kalmanFullRun.ipynb#ch0000006?line=45'>46</a>\u001b[0m     \u001b[39mreturn\u001b[39;00m trust\n\u001b[1;32m---> <a href='vscode-notebook-cell:/c%3A/Users/JoshWhitehea_5801ztl/work/analysis/heat/dataqstuff/kalmanFullRun.ipynb#ch0000006?line=47'>48</a>\u001b[0m trust \u001b[39m=\u001b[39m findTrustVal(\u001b[39m.00001\u001b[39;49m,\u001b[39m'\u001b[39;49m\u001b[39mheat\u001b[39;49m\u001b[39m'\u001b[39;49m)\n\u001b[0;32m     <a href='vscode-notebook-cell:/c%3A/Users/JoshWhitehea_5801ztl/work/analysis/heat/dataqstuff/kalmanFullRun.ipynb#ch0000006?line=48'>49</a>\u001b[0m \u001b[39m# trustC = findTrustVal(.00001,'cool')\u001b[39;00m\n\u001b[0;32m     <a href='vscode-notebook-cell:/c%3A/Users/JoshWhitehea_5801ztl/work/analysis/heat/dataqstuff/kalmanFullRun.ipynb#ch0000006?line=49'>50</a>\u001b[0m trustC \u001b[39m=\u001b[39m \u001b[39m.99909\u001b[39m\n",
      "\u001b[1;32mc:\\Users\\JoshWhitehea_5801ztl\\work\\analysis\\heat\\dataqstuff\\kalmanFullRun.ipynb Cell 7'\u001b[0m in \u001b[0;36mfindTrustVal\u001b[1;34m(interval, type)\u001b[0m\n\u001b[0;32m     <a href='vscode-notebook-cell:/c%3A/Users/JoshWhitehea_5801ztl/work/analysis/heat/dataqstuff/kalmanFullRun.ipynb#ch0000006?line=30'>31</a>\u001b[0m         old \u001b[39m=\u001b[39m old\u001b[39m*\u001b[39mi\u001b[39m+\u001b[39m(therm[k]\u001b[39m-\u001b[39moffset)\u001b[39m*\u001b[39m(\u001b[39m1\u001b[39m\u001b[39m-\u001b[39mi)\n\u001b[0;32m     <a href='vscode-notebook-cell:/c%3A/Users/JoshWhitehea_5801ztl/work/analysis/heat/dataqstuff/kalmanFullRun.ipynb#ch0000006?line=31'>32</a>\u001b[0m         zlistfit\u001b[39m.\u001b[39mappend(old)\n\u001b[1;32m---> <a href='vscode-notebook-cell:/c%3A/Users/JoshWhitehea_5801ztl/work/analysis/heat/dataqstuff/kalmanFullRun.ipynb#ch0000006?line=35'>36</a>\u001b[0m r \u001b[39m=\u001b[39m r2surf(samp,zlistfit)\n\u001b[0;32m     <a href='vscode-notebook-cell:/c%3A/Users/JoshWhitehea_5801ztl/work/analysis/heat/dataqstuff/kalmanFullRun.ipynb#ch0000006?line=36'>37</a>\u001b[0m \u001b[39mif\u001b[39;00m r \u001b[39m>\u001b[39m\u001b[39m.8\u001b[39m \u001b[39mand\u001b[39;00m r\u001b[39m<\u001b[39m\u001b[39m=\u001b[39m\u001b[39m1\u001b[39m:\n\u001b[0;32m     <a href='vscode-notebook-cell:/c%3A/Users/JoshWhitehea_5801ztl/work/analysis/heat/dataqstuff/kalmanFullRun.ipynb#ch0000006?line=37'>38</a>\u001b[0m     rr[r] \u001b[39m=\u001b[39m i\n",
      "\u001b[1;32mc:\\Users\\JoshWhitehea_5801ztl\\work\\analysis\\heat\\dataqstuff\\kalmanFullRun.ipynb Cell 4'\u001b[0m in \u001b[0;36mr2surf\u001b[1;34m(zlist, zlistfit)\u001b[0m\n\u001b[0;32m      <a href='vscode-notebook-cell:/c%3A/Users/JoshWhitehea_5801ztl/work/analysis/heat/dataqstuff/kalmanFullRun.ipynb#ch0000003?line=1'>2</a>\u001b[0m zlist \u001b[39m=\u001b[39m np\u001b[39m.\u001b[39marray(zlist)\n\u001b[0;32m      <a href='vscode-notebook-cell:/c%3A/Users/JoshWhitehea_5801ztl/work/analysis/heat/dataqstuff/kalmanFullRun.ipynb#ch0000003?line=2'>3</a>\u001b[0m zlistfit \u001b[39m=\u001b[39m np\u001b[39m.\u001b[39marray(zlistfit)\n\u001b[1;32m----> <a href='vscode-notebook-cell:/c%3A/Users/JoshWhitehea_5801ztl/work/analysis/heat/dataqstuff/kalmanFullRun.ipynb#ch0000003?line=3'>4</a>\u001b[0m st \u001b[39m=\u001b[39m \u001b[39msum\u001b[39;49m((zlist\u001b[39m-\u001b[39;49mnp\u001b[39m.\u001b[39;49maverage(zlist))\u001b[39m*\u001b[39;49m\u001b[39m*\u001b[39;49m\u001b[39m2\u001b[39;49m)\n\u001b[0;32m      <a href='vscode-notebook-cell:/c%3A/Users/JoshWhitehea_5801ztl/work/analysis/heat/dataqstuff/kalmanFullRun.ipynb#ch0000003?line=4'>5</a>\u001b[0m sr \u001b[39m=\u001b[39m \u001b[39msum\u001b[39m((zlist\u001b[39m-\u001b[39mzlistfit)\u001b[39m*\u001b[39m\u001b[39m*\u001b[39m\u001b[39m2\u001b[39m)\n\u001b[0;32m      <a href='vscode-notebook-cell:/c%3A/Users/JoshWhitehea_5801ztl/work/analysis/heat/dataqstuff/kalmanFullRun.ipynb#ch0000003?line=5'>6</a>\u001b[0m r2 \u001b[39m=\u001b[39m \u001b[39m1\u001b[39m\u001b[39m-\u001b[39msr\u001b[39m/\u001b[39mst\n",
      "\u001b[1;31mKeyboardInterrupt\u001b[0m: "
     ]
    }
   ],
   "source": [
    "sampa = full[2][:]                                                   #temp of sample \n",
    "therma = full[1][:len(sampa)]        \n",
    "\n",
    "                        \n",
    "def findTrustVal(interval,type):                                             # loops through many possibilities for model coeffs and chooses the one with the highest r2 value\n",
    "    if type == 'heat':                                                                    # adjust interval to refine model coeffs.\n",
    "        samp = sampa[:3088]\n",
    "        therm = full[1][:3088]\n",
    "    elif type == 'cool':\n",
    "        samp = sampa[3088:]\n",
    "        therm = full[1][3088:len(sampa)]\n",
    "    rr = {}\n",
    "\n",
    "\n",
    "    big = np.arange(.9,1,interval)\n",
    "    for i in big:\n",
    "        zlistfit = []\n",
    "        \n",
    "        old = samp[0]\n",
    "        \n",
    "\n",
    "        for k in range(len(therm)):                                                 # if a called cell is blank in the csv, need to fill it before code will work\n",
    "            if str(therm[k]) == 'nan':\n",
    "                print('fix csv')\n",
    "                break\n",
    "            else:\n",
    "                if type == 'heat':\n",
    "                    offset = aH*therm[k]+bH\n",
    "                else:\n",
    "                    offset = aC*therm[k]+bC\n",
    "                old = old*i+(therm[k]-offset)*(1-i)\n",
    "                zlistfit.append(old)\n",
    "\n",
    "            \n",
    "\n",
    "        r = r2surf(samp,zlistfit)\n",
    "        if r >.8 and r<=1:\n",
    "            rr[r] = i\n",
    "\n",
    "\n",
    "    print('r2 =',max(rr)) \n",
    "    \n",
    "    trust = rr[max(rr)] \n",
    "    print('a =',trust)\n",
    "    # trust = .99802\n",
    "    return trust\n",
    "\n",
    "trust = findTrustVal(.00001,'heat')\n",
    "# trustC = findTrustVal(.00001,'cool')\n",
    "trustC = .99909\n"
   ]
  },
  {
   "cell_type": "code",
   "execution_count": null,
   "metadata": {},
   "outputs": [
    {
     "ename": "NameError",
     "evalue": "name 'plt' is not defined",
     "output_type": "error",
     "traceback": [
      "\u001b[1;31m---------------------------------------------------------------------------\u001b[0m",
      "\u001b[1;31mNameError\u001b[0m                                 Traceback (most recent call last)",
      "\u001b[1;32mc:\\Users\\JoshWhitehea_5801ztl\\work\\analysis\\heat\\dataqstuff\\kalmanFullRun.ipynb Cell 8'\u001b[0m in \u001b[0;36m<cell line: 25>\u001b[1;34m()\u001b[0m\n\u001b[0;32m     <a href='vscode-notebook-cell:/c%3A/Users/JoshWhitehea_5801ztl/work/analysis/heat/dataqstuff/kalmanFullRun.ipynb#ch0000007?line=22'>23</a>\u001b[0m     plt\u001b[39m.\u001b[39mlegend()\n\u001b[0;32m     <a href='vscode-notebook-cell:/c%3A/Users/JoshWhitehea_5801ztl/work/analysis/heat/dataqstuff/kalmanFullRun.ipynb#ch0000007?line=23'>24</a>\u001b[0m     (\u001b[39m\"\u001b[39m\u001b[39m\"\u001b[39m)\n\u001b[1;32m---> <a href='vscode-notebook-cell:/c%3A/Users/JoshWhitehea_5801ztl/work/analysis/heat/dataqstuff/kalmanFullRun.ipynb#ch0000007?line=24'>25</a>\u001b[0m plotMod()\n",
      "\u001b[1;32mc:\\Users\\JoshWhitehea_5801ztl\\work\\analysis\\heat\\dataqstuff\\kalmanFullRun.ipynb Cell 8'\u001b[0m in \u001b[0;36mplotMod\u001b[1;34m()\u001b[0m\n\u001b[0;32m      <a href='vscode-notebook-cell:/c%3A/Users/JoshWhitehea_5801ztl/work/analysis/heat/dataqstuff/kalmanFullRun.ipynb#ch0000007?line=0'>1</a>\u001b[0m \u001b[39mdef\u001b[39;00m \u001b[39mplotMod\u001b[39m():                                              \u001b[39m#plot mod and sample\u001b[39;00m\n\u001b[1;32m----> <a href='vscode-notebook-cell:/c%3A/Users/JoshWhitehea_5801ztl/work/analysis/heat/dataqstuff/kalmanFullRun.ipynb#ch0000007?line=1'>2</a>\u001b[0m     plt\u001b[39m.\u001b[39mfigure(figsize\u001b[39m=\u001b[39m(\u001b[39m16\u001b[39m,\u001b[39m9\u001b[39m))\n\u001b[0;32m      <a href='vscode-notebook-cell:/c%3A/Users/JoshWhitehea_5801ztl/work/analysis/heat/dataqstuff/kalmanFullRun.ipynb#ch0000007?line=3'>4</a>\u001b[0m     old \u001b[39m=\u001b[39m sampa[\u001b[39m0\u001b[39m]\n\u001b[0;32m      <a href='vscode-notebook-cell:/c%3A/Users/JoshWhitehea_5801ztl/work/analysis/heat/dataqstuff/kalmanFullRun.ipynb#ch0000007?line=4'>5</a>\u001b[0m     ans \u001b[39m=\u001b[39m []\n",
      "\u001b[1;31mNameError\u001b[0m: name 'plt' is not defined"
     ]
    }
   ],
   "source": [
    "def plotMod():                                              #plot mod and sample\n",
    "    plt.figure(figsize=(16,9))\n",
    "\n",
    "    old = sampa[0]\n",
    "    ans = []\n",
    "    \n",
    "    for k in range(len(therma)):\n",
    "        if k <= 3088:\n",
    "            offset = aH*therma[k]+bH\n",
    "            old = old*trust+(therma[k]-offset)*(1-trust)\n",
    "            ans.append(old)\n",
    "        else:\n",
    "            offset = aC*therma[k]+bC\n",
    "            old = old*trustC+(therma[k]-offset)*(1-trustC)\n",
    "            ans.append(old)\n",
    "    plt.plot(full[0][:len(sampa)],ans,label='mod')\n",
    "\n",
    "\n",
    "    plt.plot(full[0][:len(sampa)],sampa,label='dat')\n",
    "    plt.plot(full[0][:len(sampa)],therma) \n",
    "    plt.grid()\n",
    "    plt.yticks(np.arange(25,95,5))\n",
    "    plt.legend()\n",
    "    ;\n",
    "plotMod()"
   ]
  },
  {
   "cell_type": "code",
   "execution_count": null,
   "metadata": {},
   "outputs": [
    {
     "data": {
      "image/png": "[encoded data removed]",
      "text/plain": [
       "<Figure size 1152x648 with 1 Axes>"
      ]
     },
     "metadata": {
      "needs_background": "light"
     },
     "output_type": "display_data"
    }
   ],
   "source": [
    "trust = 0.99576 + .5*(1-.99576)\n",
    "full = dat.lid0Cons0_100\n",
    "sampa = full[2]\n",
    "therma = full[1][:len(sampa)]\n",
    "for i in range(len(therma)):\n",
    "    if str(therma[i]) == 'nan':\n",
    "        print(i)\n",
    "\n",
    "def plotMod():                                              #plot mod and sample\n",
    "    plt.figure(figsize=(16,9))\n",
    "\n",
    "    old = sampa[0]\n",
    "    ans = []\n",
    "    \n",
    "    for k in range(len(therma)):\n",
    "        # if k <= 3088:\n",
    "        offset = aH*therma[k]+bH\n",
    "        old = old*trust+(therma[k]-offset)*(1-trust)\n",
    "        ans.append(old)\n",
    "        # print(old)\n",
    "        # else:\n",
    "        #     offset = aC*therma[k]+bC\n",
    "        #     old = old*trustC+(therma[k]-offset)*(1-trustC)\n",
    "        #     ans.append(old)\n",
    "    plt.plot(full[0][:len(sampa)],ans,label='mod')\n",
    "\n",
    "\n",
    "    # plt.plot(full[0][:len(sampa)],sampa,label='dat')\n",
    "    plt.plot(full[0][:len(sampa)],therma) \n",
    "    plt.grid()\n",
    "    plt.yticks(np.arange(25,110,5))\n",
    "    plt.legend()\n",
    "    ;\n",
    "plotMod()"
   ]
  }
 ],
 "metadata": {
  "interpreter": {
   "hash": "f843ee0a3a14f37930098b44a96339ea0525cc138e2dda434ef23b3a1dd70704"
  },
  "kernelspec": {
   "display_name": "Python 3.10.4 64-bit",
   "language": "python",
   "name": "python3"
  },
  "language_info": {
   "codemirror_mode": {
    "name": "ipython",
    "version": 3
   },
   "file_extension": ".py",
   "mimetype": "text/x-python",
   "name": "python",
   "nbconvert_exporter": "python",
   "pygments_lexer": "ipython3",
   "version": "3.10.4"
  },
  "orig_nbformat": 4
 },
 "nbformat": 4,
 "nbformat_minor": 2
}
